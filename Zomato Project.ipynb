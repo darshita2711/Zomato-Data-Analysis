{
 "cells": [
  {
   "cell_type": "markdown",
   "id": "54695b45",
   "metadata": {},
   "source": [
    "# step -1 importing libraries"
   ]
  },
  {
   "cell_type": "code",
   "execution_count": 1,
   "id": "32ada94b",
   "metadata": {},
   "outputs": [
    {
     "name": "stdout",
     "output_type": "stream",
     "text": [
      "Requirement already satisfied: pandas in c:\\python\\lib\\site-packages (2.0.3)\n",
      "Requirement already satisfied: python-dateutil>=2.8.2 in c:\\python\\lib\\site-packages (from pandas) (2.8.2)\n",
      "Requirement already satisfied: pytz>=2020.1 in c:\\python\\lib\\site-packages (from pandas) (2023.3)\n",
      "Requirement already satisfied: tzdata>=2022.1 in c:\\python\\lib\\site-packages (from pandas) (2023.3)\n",
      "Requirement already satisfied: numpy>=1.21.0 in c:\\python\\lib\\site-packages (from pandas) (1.25.2)\n",
      "Requirement already satisfied: six>=1.5 in c:\\python\\lib\\site-packages (from python-dateutil>=2.8.2->pandas) (1.16.0)\n",
      "Requirement already satisfied: numpy in c:\\python\\lib\\site-packages (1.25.2)\n",
      "Requirement already satisfied: matplotlib in c:\\python\\lib\\site-packages (3.10.0)\n",
      "Requirement already satisfied: contourpy>=1.0.1 in c:\\python\\lib\\site-packages (from matplotlib) (1.1.0)\n",
      "Requirement already satisfied: cycler>=0.10 in c:\\python\\lib\\site-packages (from matplotlib) (0.11.0)\n",
      "Requirement already satisfied: fonttools>=4.22.0 in c:\\python\\lib\\site-packages (from matplotlib) (4.42.0)\n",
      "Requirement already satisfied: kiwisolver>=1.3.1 in c:\\python\\lib\\site-packages (from matplotlib) (1.4.4)\n",
      "Requirement already satisfied: numpy>=1.23 in c:\\python\\lib\\site-packages (from matplotlib) (1.25.2)\n",
      "Requirement already satisfied: packaging>=20.0 in c:\\python\\lib\\site-packages (from matplotlib) (23.1)\n",
      "Requirement already satisfied: pillow>=8 in c:\\python\\lib\\site-packages (from matplotlib) (9.5.0)\n",
      "Requirement already satisfied: pyparsing>=2.3.1 in c:\\python\\lib\\site-packages (from matplotlib) (3.0.9)\n",
      "Requirement already satisfied: python-dateutil>=2.7 in c:\\python\\lib\\site-packages (from matplotlib) (2.8.2)\n",
      "Requirement already satisfied: six>=1.5 in c:\\python\\lib\\site-packages (from python-dateutil>=2.7->matplotlib) (1.16.0)\n",
      "Requirement already satisfied: seaborn in c:\\python\\lib\\site-packages (0.13.2)\n",
      "Requirement already satisfied: numpy!=1.24.0,>=1.20 in c:\\python\\lib\\site-packages (from seaborn) (1.25.2)\n",
      "Requirement already satisfied: pandas>=1.2 in c:\\python\\lib\\site-packages (from seaborn) (2.0.3)\n",
      "Requirement already satisfied: matplotlib!=3.6.1,>=3.4 in c:\\python\\lib\\site-packages (from seaborn) (3.10.0)\n",
      "Requirement already satisfied: contourpy>=1.0.1 in c:\\python\\lib\\site-packages (from matplotlib!=3.6.1,>=3.4->seaborn) (1.1.0)\n",
      "Requirement already satisfied: cycler>=0.10 in c:\\python\\lib\\site-packages (from matplotlib!=3.6.1,>=3.4->seaborn) (0.11.0)\n",
      "Requirement already satisfied: fonttools>=4.22.0 in c:\\python\\lib\\site-packages (from matplotlib!=3.6.1,>=3.4->seaborn) (4.42.0)\n",
      "Requirement already satisfied: kiwisolver>=1.3.1 in c:\\python\\lib\\site-packages (from matplotlib!=3.6.1,>=3.4->seaborn) (1.4.4)\n",
      "Requirement already satisfied: packaging>=20.0 in c:\\python\\lib\\site-packages (from matplotlib!=3.6.1,>=3.4->seaborn) (23.1)\n",
      "Requirement already satisfied: pillow>=8 in c:\\python\\lib\\site-packages (from matplotlib!=3.6.1,>=3.4->seaborn) (9.5.0)\n",
      "Requirement already satisfied: pyparsing>=2.3.1 in c:\\python\\lib\\site-packages (from matplotlib!=3.6.1,>=3.4->seaborn) (3.0.9)\n",
      "Requirement already satisfied: python-dateutil>=2.7 in c:\\python\\lib\\site-packages (from matplotlib!=3.6.1,>=3.4->seaborn) (2.8.2)\n",
      "Requirement already satisfied: pytz>=2020.1 in c:\\python\\lib\\site-packages (from pandas>=1.2->seaborn) (2023.3)\n",
      "Requirement already satisfied: tzdata>=2022.1 in c:\\python\\lib\\site-packages (from pandas>=1.2->seaborn) (2023.3)\n",
      "Requirement already satisfied: six>=1.5 in c:\\python\\lib\\site-packages (from python-dateutil>=2.7->matplotlib!=3.6.1,>=3.4->seaborn) (1.16.0)\n",
      "Requirement already satisfied: jupyter-dash in c:\\python\\lib\\site-packages (0.4.2)\n",
      "Requirement already satisfied: dash in c:\\python\\lib\\site-packages (from jupyter-dash) (2.18.2)\n",
      "Requirement already satisfied: requests in c:\\python\\lib\\site-packages (from jupyter-dash) (2.29.0)\n",
      "Requirement already satisfied: flask in c:\\python\\lib\\site-packages (from jupyter-dash) (3.0.3)\n",
      "Requirement already satisfied: retrying in c:\\python\\lib\\site-packages (from jupyter-dash) (1.3.4)\n",
      "Requirement already satisfied: ipython in c:\\python\\lib\\site-packages (from jupyter-dash) (8.14.0)\n",
      "Requirement already satisfied: ipykernel in c:\\python\\lib\\site-packages (from jupyter-dash) (6.23.1)\n",
      "Requirement already satisfied: ansi2html in c:\\python\\lib\\site-packages (from jupyter-dash) (1.9.2)\n",
      "Requirement already satisfied: nest-asyncio in c:\\python\\lib\\site-packages (from jupyter-dash) (1.5.6)\n",
      "Requirement already satisfied: Werkzeug<3.1 in c:\\python\\lib\\site-packages (from dash->jupyter-dash) (3.0.6)\n",
      "Requirement already satisfied: plotly>=5.0.0 in c:\\python\\lib\\site-packages (from dash->jupyter-dash) (5.24.1)\n",
      "Requirement already satisfied: dash-html-components==2.0.0 in c:\\python\\lib\\site-packages (from dash->jupyter-dash) (2.0.0)\n",
      "Requirement already satisfied: dash-core-components==2.0.0 in c:\\python\\lib\\site-packages (from dash->jupyter-dash) (2.0.0)\n",
      "Requirement already satisfied: dash-table==5.0.0 in c:\\python\\lib\\site-packages (from dash->jupyter-dash) (5.0.0)\n",
      "Requirement already satisfied: importlib-metadata in c:\\python\\lib\\site-packages (from dash->jupyter-dash) (8.5.0)\n",
      "Requirement already satisfied: typing-extensions>=4.1.1 in c:\\python\\lib\\site-packages (from dash->jupyter-dash) (4.5.0)\n",
      "Requirement already satisfied: setuptools in c:\\python\\lib\\site-packages (from dash->jupyter-dash) (58.1.0)\n",
      "Requirement already satisfied: Jinja2>=3.1.2 in c:\\python\\lib\\site-packages (from flask->jupyter-dash) (3.1.2)\n",
      "Requirement already satisfied: itsdangerous>=2.1.2 in c:\\python\\lib\\site-packages (from flask->jupyter-dash) (2.2.0)\n",
      "Requirement already satisfied: click>=8.1.3 in c:\\python\\lib\\site-packages (from flask->jupyter-dash) (8.1.3)\n",
      "Requirement already satisfied: blinker>=1.6.2 in c:\\python\\lib\\site-packages (from flask->jupyter-dash) (1.9.0)\n",
      "Requirement already satisfied: comm>=0.1.1 in c:\\python\\lib\\site-packages (from ipykernel->jupyter-dash) (0.1.3)\n",
      "Requirement already satisfied: debugpy>=1.6.5 in c:\\python\\lib\\site-packages (from ipykernel->jupyter-dash) (1.6.7)\n",
      "Requirement already satisfied: jupyter-client>=6.1.12 in c:\\python\\lib\\site-packages (from ipykernel->jupyter-dash) (8.2.0)\n",
      "Requirement already satisfied: jupyter-core!=5.0.*,>=4.12 in c:\\python\\lib\\site-packages (from ipykernel->jupyter-dash) (5.3.0)\n",
      "Requirement already satisfied: matplotlib-inline>=0.1 in c:\\python\\lib\\site-packages (from ipykernel->jupyter-dash) (0.1.6)\n",
      "Requirement already satisfied: packaging in c:\\python\\lib\\site-packages (from ipykernel->jupyter-dash) (23.1)\n",
      "Requirement already satisfied: psutil in c:\\python\\lib\\site-packages (from ipykernel->jupyter-dash) (5.9.5)\n",
      "Requirement already satisfied: pyzmq>=20 in c:\\python\\lib\\site-packages (from ipykernel->jupyter-dash) (25.1.0)\n",
      "Requirement already satisfied: tornado>=6.1 in c:\\python\\lib\\site-packages (from ipykernel->jupyter-dash) (6.3.2)\n",
      "Requirement already satisfied: traitlets>=5.4.0 in c:\\python\\lib\\site-packages (from ipykernel->jupyter-dash) (5.9.0)\n",
      "Requirement already satisfied: backcall in c:\\python\\lib\\site-packages (from ipython->jupyter-dash) (0.2.0)\n",
      "Requirement already satisfied: decorator in c:\\python\\lib\\site-packages (from ipython->jupyter-dash) (5.1.1)\n",
      "Requirement already satisfied: jedi>=0.16 in c:\\python\\lib\\site-packages (from ipython->jupyter-dash) (0.18.2)\n",
      "Requirement already satisfied: pickleshare in c:\\python\\lib\\site-packages (from ipython->jupyter-dash) (0.7.5)\n",
      "Requirement already satisfied: prompt-toolkit!=3.0.37,<3.1.0,>=3.0.30 in c:\\python\\lib\\site-packages (from ipython->jupyter-dash) (3.0.38)\n",
      "Requirement already satisfied: pygments>=2.4.0 in c:\\python\\lib\\site-packages (from ipython->jupyter-dash) (2.15.1)\n",
      "Requirement already satisfied: stack-data in c:\\python\\lib\\site-packages (from ipython->jupyter-dash) (0.6.2)\n",
      "Requirement already satisfied: colorama in c:\\python\\lib\\site-packages (from ipython->jupyter-dash) (0.4.6)\n",
      "Requirement already satisfied: charset-normalizer<4,>=2 in c:\\python\\lib\\site-packages (from requests->jupyter-dash) (3.1.0)\n",
      "Requirement already satisfied: idna<4,>=2.5 in c:\\python\\lib\\site-packages (from requests->jupyter-dash) (3.4)\n",
      "Requirement already satisfied: urllib3<1.27,>=1.21.1 in c:\\python\\lib\\site-packages (from requests->jupyter-dash) (1.26.15)\n",
      "Requirement already satisfied: certifi>=2017.4.17 in c:\\python\\lib\\site-packages (from requests->jupyter-dash) (2022.12.7)\n",
      "Requirement already satisfied: six>=1.7.0 in c:\\python\\lib\\site-packages (from retrying->jupyter-dash) (1.16.0)\n",
      "Requirement already satisfied: parso<0.9.0,>=0.8.0 in c:\\python\\lib\\site-packages (from jedi>=0.16->ipython->jupyter-dash) (0.8.3)\n",
      "Requirement already satisfied: MarkupSafe>=2.0 in c:\\python\\lib\\site-packages (from Jinja2>=3.1.2->flask->jupyter-dash) (2.1.3)\n",
      "Requirement already satisfied: python-dateutil>=2.8.2 in c:\\python\\lib\\site-packages (from jupyter-client>=6.1.12->ipykernel->jupyter-dash) (2.8.2)\n",
      "Requirement already satisfied: platformdirs>=2.5 in c:\\python\\lib\\site-packages (from jupyter-core!=5.0.*,>=4.12->ipykernel->jupyter-dash) (3.4.0)\n",
      "Requirement already satisfied: pywin32>=300 in c:\\python\\lib\\site-packages (from jupyter-core!=5.0.*,>=4.12->ipykernel->jupyter-dash) (306)\n",
      "Requirement already satisfied: tenacity>=6.2.0 in c:\\python\\lib\\site-packages (from plotly>=5.0.0->dash->jupyter-dash) (9.0.0)\n",
      "Requirement already satisfied: wcwidth in c:\\python\\lib\\site-packages (from prompt-toolkit!=3.0.37,<3.1.0,>=3.0.30->ipython->jupyter-dash) (0.2.6)\n",
      "Requirement already satisfied: zipp>=3.20 in c:\\python\\lib\\site-packages (from importlib-metadata->dash->jupyter-dash) (3.21.0)\n",
      "Requirement already satisfied: executing>=1.2.0 in c:\\python\\lib\\site-packages (from stack-data->ipython->jupyter-dash) (1.2.0)\n",
      "Requirement already satisfied: asttokens>=2.1.0 in c:\\python\\lib\\site-packages (from stack-data->ipython->jupyter-dash) (2.2.1)\n",
      "Requirement already satisfied: pure-eval in c:\\python\\lib\\site-packages (from stack-data->ipython->jupyter-dash) (0.2.2)\n"
     ]
    }
   ],
   "source": [
    "!pip install pandas\n",
    "!pip install numpy\n",
    "!pip install -U matplotlib\n",
    "!pip install seaborn\n",
    "!pip install --no-cache-dir jupyter-dash\n",
    "!pip install dash"
   ]
  },
  {
   "cell_type": "markdown",
   "id": "e44c359b",
   "metadata": {},
   "source": [
    "# Step - 2 Create the Data Frame"
   ]
  },
  {
   "cell_type": "code",
   "execution_count": 2,
   "id": "12417508",
   "metadata": {},
   "outputs": [],
   "source": [
    "import pandas as pd\n",
    "import numpy as np\n",
    "import matplotlib.pyplot as plt\n",
    "import seaborn as sns"
   ]
  },
  {
   "cell_type": "code",
   "execution_count": 3,
   "id": "93b9d74f",
   "metadata": {},
   "outputs": [
    {
     "data": {
      "text/html": [
       "<div>\n",
       "<style scoped>\n",
       "    .dataframe tbody tr th:only-of-type {\n",
       "        vertical-align: middle;\n",
       "    }\n",
       "\n",
       "    .dataframe tbody tr th {\n",
       "        vertical-align: top;\n",
       "    }\n",
       "\n",
       "    .dataframe thead th {\n",
       "        text-align: right;\n",
       "    }\n",
       "</style>\n",
       "<table border=\"1\" class=\"dataframe\">\n",
       "  <thead>\n",
       "    <tr style=\"text-align: right;\">\n",
       "      <th></th>\n",
       "      <th>name</th>\n",
       "      <th>online_order</th>\n",
       "      <th>book_table</th>\n",
       "      <th>rate</th>\n",
       "      <th>votes</th>\n",
       "      <th>approx_cost(for two people)</th>\n",
       "      <th>listed_in(type)</th>\n",
       "    </tr>\n",
       "  </thead>\n",
       "  <tbody>\n",
       "    <tr>\n",
       "      <th>0</th>\n",
       "      <td>Jalsa</td>\n",
       "      <td>Yes</td>\n",
       "      <td>Yes</td>\n",
       "      <td>4.1/5</td>\n",
       "      <td>775</td>\n",
       "      <td>800</td>\n",
       "      <td>Buffet</td>\n",
       "    </tr>\n",
       "    <tr>\n",
       "      <th>1</th>\n",
       "      <td>Spice Elephant</td>\n",
       "      <td>Yes</td>\n",
       "      <td>No</td>\n",
       "      <td>4.1/5</td>\n",
       "      <td>787</td>\n",
       "      <td>800</td>\n",
       "      <td>Buffet</td>\n",
       "    </tr>\n",
       "    <tr>\n",
       "      <th>2</th>\n",
       "      <td>San Churro Cafe</td>\n",
       "      <td>Yes</td>\n",
       "      <td>No</td>\n",
       "      <td>3.8/5</td>\n",
       "      <td>918</td>\n",
       "      <td>800</td>\n",
       "      <td>Buffet</td>\n",
       "    </tr>\n",
       "    <tr>\n",
       "      <th>3</th>\n",
       "      <td>Addhuri Udupi Bhojana</td>\n",
       "      <td>No</td>\n",
       "      <td>No</td>\n",
       "      <td>3.7/5</td>\n",
       "      <td>88</td>\n",
       "      <td>300</td>\n",
       "      <td>Buffet</td>\n",
       "    </tr>\n",
       "    <tr>\n",
       "      <th>4</th>\n",
       "      <td>Grand Village</td>\n",
       "      <td>No</td>\n",
       "      <td>No</td>\n",
       "      <td>3.8/5</td>\n",
       "      <td>166</td>\n",
       "      <td>600</td>\n",
       "      <td>Buffet</td>\n",
       "    </tr>\n",
       "  </tbody>\n",
       "</table>\n",
       "</div>"
      ],
      "text/plain": [
       "                    name online_order book_table   rate  votes  \\\n",
       "0                  Jalsa          Yes        Yes  4.1/5    775   \n",
       "1         Spice Elephant          Yes         No  4.1/5    787   \n",
       "2        San Churro Cafe          Yes         No  3.8/5    918   \n",
       "3  Addhuri Udupi Bhojana           No         No  3.7/5     88   \n",
       "4          Grand Village           No         No  3.8/5    166   \n",
       "\n",
       "   approx_cost(for two people) listed_in(type)  \n",
       "0                          800          Buffet  \n",
       "1                          800          Buffet  \n",
       "2                          800          Buffet  \n",
       "3                          300          Buffet  \n",
       "4                          600          Buffet  "
      ]
     },
     "execution_count": 3,
     "metadata": {},
     "output_type": "execute_result"
    }
   ],
   "source": [
    "df= pd.read_csv(\"Zomato data .csv\")\n",
    "df.head()"
   ]
  },
  {
   "cell_type": "markdown",
   "id": "dc481b0b",
   "metadata": {},
   "source": [
    "# Step - 3 Clean the data"
   ]
  },
  {
   "cell_type": "code",
   "execution_count": 4,
   "id": "533ef184",
   "metadata": {},
   "outputs": [
    {
     "name": "stdout",
     "output_type": "stream",
     "text": [
      "<class 'pandas.core.frame.DataFrame'>\n",
      "RangeIndex: 148 entries, 0 to 147\n",
      "Data columns (total 7 columns):\n",
      " #   Column                       Non-Null Count  Dtype \n",
      "---  ------                       --------------  ----- \n",
      " 0   name                         148 non-null    object\n",
      " 1   online_order                 148 non-null    object\n",
      " 2   book_table                   148 non-null    object\n",
      " 3   rate                         148 non-null    object\n",
      " 4   votes                        148 non-null    int64 \n",
      " 5   approx_cost(for two people)  148 non-null    int64 \n",
      " 6   listed_in(type)              148 non-null    object\n",
      "dtypes: int64(2), object(5)\n",
      "memory usage: 8.2+ KB\n"
     ]
    }
   ],
   "source": [
    "df.info() #summury for data"
   ]
  },
  {
   "cell_type": "code",
   "execution_count": 5,
   "id": "3e59dac2",
   "metadata": {},
   "outputs": [
    {
     "data": {
      "text/html": [
       "<div>\n",
       "<style scoped>\n",
       "    .dataframe tbody tr th:only-of-type {\n",
       "        vertical-align: middle;\n",
       "    }\n",
       "\n",
       "    .dataframe tbody tr th {\n",
       "        vertical-align: top;\n",
       "    }\n",
       "\n",
       "    .dataframe thead th {\n",
       "        text-align: right;\n",
       "    }\n",
       "</style>\n",
       "<table border=\"1\" class=\"dataframe\">\n",
       "  <thead>\n",
       "    <tr style=\"text-align: right;\">\n",
       "      <th></th>\n",
       "      <th>name</th>\n",
       "      <th>online_order</th>\n",
       "      <th>book_table</th>\n",
       "      <th>rate</th>\n",
       "      <th>votes</th>\n",
       "      <th>approx_cost(for two people)</th>\n",
       "      <th>listed_in(type)</th>\n",
       "    </tr>\n",
       "  </thead>\n",
       "  <tbody>\n",
       "    <tr>\n",
       "      <th>count</th>\n",
       "      <td>148</td>\n",
       "      <td>148</td>\n",
       "      <td>148</td>\n",
       "      <td>148</td>\n",
       "      <td>148.000000</td>\n",
       "      <td>148.000000</td>\n",
       "      <td>148</td>\n",
       "    </tr>\n",
       "    <tr>\n",
       "      <th>unique</th>\n",
       "      <td>145</td>\n",
       "      <td>2</td>\n",
       "      <td>2</td>\n",
       "      <td>20</td>\n",
       "      <td>NaN</td>\n",
       "      <td>NaN</td>\n",
       "      <td>4</td>\n",
       "    </tr>\n",
       "    <tr>\n",
       "      <th>top</th>\n",
       "      <td>San Churro Cafe</td>\n",
       "      <td>No</td>\n",
       "      <td>No</td>\n",
       "      <td>3.8/5</td>\n",
       "      <td>NaN</td>\n",
       "      <td>NaN</td>\n",
       "      <td>Dining</td>\n",
       "    </tr>\n",
       "    <tr>\n",
       "      <th>freq</th>\n",
       "      <td>2</td>\n",
       "      <td>90</td>\n",
       "      <td>140</td>\n",
       "      <td>19</td>\n",
       "      <td>NaN</td>\n",
       "      <td>NaN</td>\n",
       "      <td>110</td>\n",
       "    </tr>\n",
       "    <tr>\n",
       "      <th>mean</th>\n",
       "      <td>NaN</td>\n",
       "      <td>NaN</td>\n",
       "      <td>NaN</td>\n",
       "      <td>NaN</td>\n",
       "      <td>264.810811</td>\n",
       "      <td>418.243243</td>\n",
       "      <td>NaN</td>\n",
       "    </tr>\n",
       "    <tr>\n",
       "      <th>std</th>\n",
       "      <td>NaN</td>\n",
       "      <td>NaN</td>\n",
       "      <td>NaN</td>\n",
       "      <td>NaN</td>\n",
       "      <td>653.676951</td>\n",
       "      <td>223.085098</td>\n",
       "      <td>NaN</td>\n",
       "    </tr>\n",
       "    <tr>\n",
       "      <th>min</th>\n",
       "      <td>NaN</td>\n",
       "      <td>NaN</td>\n",
       "      <td>NaN</td>\n",
       "      <td>NaN</td>\n",
       "      <td>0.000000</td>\n",
       "      <td>100.000000</td>\n",
       "      <td>NaN</td>\n",
       "    </tr>\n",
       "    <tr>\n",
       "      <th>25%</th>\n",
       "      <td>NaN</td>\n",
       "      <td>NaN</td>\n",
       "      <td>NaN</td>\n",
       "      <td>NaN</td>\n",
       "      <td>6.750000</td>\n",
       "      <td>200.000000</td>\n",
       "      <td>NaN</td>\n",
       "    </tr>\n",
       "    <tr>\n",
       "      <th>50%</th>\n",
       "      <td>NaN</td>\n",
       "      <td>NaN</td>\n",
       "      <td>NaN</td>\n",
       "      <td>NaN</td>\n",
       "      <td>43.500000</td>\n",
       "      <td>400.000000</td>\n",
       "      <td>NaN</td>\n",
       "    </tr>\n",
       "    <tr>\n",
       "      <th>75%</th>\n",
       "      <td>NaN</td>\n",
       "      <td>NaN</td>\n",
       "      <td>NaN</td>\n",
       "      <td>NaN</td>\n",
       "      <td>221.750000</td>\n",
       "      <td>600.000000</td>\n",
       "      <td>NaN</td>\n",
       "    </tr>\n",
       "    <tr>\n",
       "      <th>max</th>\n",
       "      <td>NaN</td>\n",
       "      <td>NaN</td>\n",
       "      <td>NaN</td>\n",
       "      <td>NaN</td>\n",
       "      <td>4884.000000</td>\n",
       "      <td>950.000000</td>\n",
       "      <td>NaN</td>\n",
       "    </tr>\n",
       "  </tbody>\n",
       "</table>\n",
       "</div>"
      ],
      "text/plain": [
       "                   name online_order book_table   rate        votes  \\\n",
       "count               148          148        148    148   148.000000   \n",
       "unique              145            2          2     20          NaN   \n",
       "top     San Churro Cafe           No         No  3.8/5          NaN   \n",
       "freq                  2           90        140     19          NaN   \n",
       "mean                NaN          NaN        NaN    NaN   264.810811   \n",
       "std                 NaN          NaN        NaN    NaN   653.676951   \n",
       "min                 NaN          NaN        NaN    NaN     0.000000   \n",
       "25%                 NaN          NaN        NaN    NaN     6.750000   \n",
       "50%                 NaN          NaN        NaN    NaN    43.500000   \n",
       "75%                 NaN          NaN        NaN    NaN   221.750000   \n",
       "max                 NaN          NaN        NaN    NaN  4884.000000   \n",
       "\n",
       "        approx_cost(for two people) listed_in(type)  \n",
       "count                    148.000000             148  \n",
       "unique                          NaN               4  \n",
       "top                             NaN          Dining  \n",
       "freq                            NaN             110  \n",
       "mean                     418.243243             NaN  \n",
       "std                      223.085098             NaN  \n",
       "min                      100.000000             NaN  \n",
       "25%                      200.000000             NaN  \n",
       "50%                      400.000000             NaN  \n",
       "75%                      600.000000             NaN  \n",
       "max                      950.000000             NaN  "
      ]
     },
     "execution_count": 5,
     "metadata": {},
     "output_type": "execute_result"
    }
   ],
   "source": [
    "# Check statiscal summary for dataframe\n",
    "df.describe(include='all')"
   ]
  },
  {
   "cell_type": "markdown",
   "id": "2e6bea09",
   "metadata": {},
   "source": [
    "# Step - 4 Check for Dupliacte values "
   ]
  },
  {
   "cell_type": "code",
   "execution_count": 6,
   "id": "b7009471",
   "metadata": {},
   "outputs": [
    {
     "data": {
      "text/plain": [
       "0"
      ]
     },
     "execution_count": 6,
     "metadata": {},
     "output_type": "execute_result"
    }
   ],
   "source": [
    "duplicates = df.duplicated().sum()\n",
    "duplicates"
   ]
  },
  {
   "cell_type": "markdown",
   "id": "0ea5b480",
   "metadata": {},
   "source": [
    "# if any duplicates find then drop the duplicates"
   ]
  },
  {
   "cell_type": "code",
   "execution_count": 7,
   "id": "2466b3b3",
   "metadata": {},
   "outputs": [
    {
     "data": {
      "text/plain": [
       "0"
      ]
     },
     "execution_count": 7,
     "metadata": {},
     "output_type": "execute_result"
    }
   ],
   "source": [
    "df.drop_duplicates(inplace=True)\n",
    "df.duplicated().sum()"
   ]
  },
  {
   "cell_type": "markdown",
   "id": "af08e125",
   "metadata": {},
   "source": [
    "# Step - 5 Check any null values or not "
   ]
  },
  {
   "cell_type": "code",
   "execution_count": 8,
   "id": "c7785549",
   "metadata": {},
   "outputs": [
    {
     "data": {
      "text/plain": [
       "name                           0\n",
       "online_order                   0\n",
       "book_table                     0\n",
       "rate                           0\n",
       "votes                          0\n",
       "approx_cost(for two people)    0\n",
       "listed_in(type)                0\n",
       "dtype: int64"
      ]
     },
     "execution_count": 8,
     "metadata": {},
     "output_type": "execute_result"
    }
   ],
   "source": [
    "df.isnull().sum()"
   ]
  },
  {
   "cell_type": "code",
   "execution_count": 9,
   "id": "6e3ffe36",
   "metadata": {},
   "outputs": [],
   "source": [
    "df = df.dropna() # if you have any null values then drop it."
   ]
  },
  {
   "cell_type": "code",
   "execution_count": 10,
   "id": "6d5ffff0",
   "metadata": {},
   "outputs": [
    {
     "data": {
      "text/plain": [
       "(148, 7)"
      ]
     },
     "execution_count": 10,
     "metadata": {},
     "output_type": "execute_result"
    }
   ],
   "source": [
    "df.shape #shows your rows and columns"
   ]
  },
  {
   "cell_type": "code",
   "execution_count": 11,
   "id": "4426b777",
   "metadata": {},
   "outputs": [
    {
     "data": {
      "text/plain": [
       "name                           object\n",
       "online_order                   object\n",
       "book_table                     object\n",
       "rate                           object\n",
       "votes                           int64\n",
       "approx_cost(for two people)     int64\n",
       "listed_in(type)                object\n",
       "dtype: object"
      ]
     },
     "execution_count": 11,
     "metadata": {},
     "output_type": "execute_result"
    }
   ],
   "source": [
    "# Check datatypes of each column in dataframe\n",
    "df.dtypes"
   ]
  },
  {
   "cell_type": "markdown",
   "id": "a2b747eb",
   "metadata": {},
   "source": [
    "# Step - 6 Check inside data\n",
    "1) rate column have 4.1/5 to 4.1 \n",
    "   if diffrent moduls like 4.1/5,4.1/3 then use regex"
   ]
  },
  {
   "cell_type": "code",
   "execution_count": 12,
   "id": "2b880d7a",
   "metadata": {},
   "outputs": [
    {
     "name": "stdout",
     "output_type": "stream",
     "text": [
      "<class 'pandas.core.frame.DataFrame'>\n",
      "RangeIndex: 148 entries, 0 to 147\n",
      "Data columns (total 7 columns):\n",
      " #   Column                       Non-Null Count  Dtype \n",
      "---  ------                       --------------  ----- \n",
      " 0   name                         148 non-null    object\n",
      " 1   online_order                 148 non-null    object\n",
      " 2   book_table                   148 non-null    object\n",
      " 3   rate                         148 non-null    object\n",
      " 4   votes                        148 non-null    int64 \n",
      " 5   approx_cost(for two people)  148 non-null    int64 \n",
      " 6   listed_in(type)              148 non-null    object\n",
      "dtypes: int64(2), object(5)\n",
      "memory usage: 8.2+ KB\n"
     ]
    }
   ],
   "source": [
    "df['rate'] = df['rate'].str.replace('/5','',regex= False)\n",
    "df.info()"
   ]
  },
  {
   "cell_type": "code",
   "execution_count": 13,
   "id": "ed44d776",
   "metadata": {},
   "outputs": [
    {
     "name": "stdout",
     "output_type": "stream",
     "text": [
      "name                           object\n",
      "online_order                   object\n",
      "book_table                     object\n",
      "rate                           object\n",
      "votes                           int64\n",
      "approx_cost(for two people)     int64\n",
      "listed_in(type)                object\n",
      "dtype: object\n"
     ]
    }
   ],
   "source": [
    "print(df.dtypes)"
   ]
  },
  {
   "cell_type": "code",
   "execution_count": 14,
   "id": "7520cf89",
   "metadata": {},
   "outputs": [
    {
     "data": {
      "text/html": [
       "<div>\n",
       "<style scoped>\n",
       "    .dataframe tbody tr th:only-of-type {\n",
       "        vertical-align: middle;\n",
       "    }\n",
       "\n",
       "    .dataframe tbody tr th {\n",
       "        vertical-align: top;\n",
       "    }\n",
       "\n",
       "    .dataframe thead th {\n",
       "        text-align: right;\n",
       "    }\n",
       "</style>\n",
       "<table border=\"1\" class=\"dataframe\">\n",
       "  <thead>\n",
       "    <tr style=\"text-align: right;\">\n",
       "      <th></th>\n",
       "      <th>name</th>\n",
       "      <th>online_order</th>\n",
       "      <th>book_table</th>\n",
       "      <th>rate</th>\n",
       "      <th>votes</th>\n",
       "      <th>approx_cost(for two people)</th>\n",
       "      <th>listed_in(type)</th>\n",
       "    </tr>\n",
       "  </thead>\n",
       "  <tbody>\n",
       "    <tr>\n",
       "      <th>0</th>\n",
       "      <td>Jalsa</td>\n",
       "      <td>Yes</td>\n",
       "      <td>Yes</td>\n",
       "      <td>4.1</td>\n",
       "      <td>775</td>\n",
       "      <td>800</td>\n",
       "      <td>Buffet</td>\n",
       "    </tr>\n",
       "    <tr>\n",
       "      <th>1</th>\n",
       "      <td>Spice Elephant</td>\n",
       "      <td>Yes</td>\n",
       "      <td>No</td>\n",
       "      <td>4.1</td>\n",
       "      <td>787</td>\n",
       "      <td>800</td>\n",
       "      <td>Buffet</td>\n",
       "    </tr>\n",
       "    <tr>\n",
       "      <th>2</th>\n",
       "      <td>San Churro Cafe</td>\n",
       "      <td>Yes</td>\n",
       "      <td>No</td>\n",
       "      <td>3.8</td>\n",
       "      <td>918</td>\n",
       "      <td>800</td>\n",
       "      <td>Buffet</td>\n",
       "    </tr>\n",
       "    <tr>\n",
       "      <th>3</th>\n",
       "      <td>Addhuri Udupi Bhojana</td>\n",
       "      <td>No</td>\n",
       "      <td>No</td>\n",
       "      <td>3.7</td>\n",
       "      <td>88</td>\n",
       "      <td>300</td>\n",
       "      <td>Buffet</td>\n",
       "    </tr>\n",
       "    <tr>\n",
       "      <th>4</th>\n",
       "      <td>Grand Village</td>\n",
       "      <td>No</td>\n",
       "      <td>No</td>\n",
       "      <td>3.8</td>\n",
       "      <td>166</td>\n",
       "      <td>600</td>\n",
       "      <td>Buffet</td>\n",
       "    </tr>\n",
       "  </tbody>\n",
       "</table>\n",
       "</div>"
      ],
      "text/plain": [
       "                    name online_order book_table  rate  votes  \\\n",
       "0                  Jalsa          Yes        Yes   4.1    775   \n",
       "1         Spice Elephant          Yes         No   4.1    787   \n",
       "2        San Churro Cafe          Yes         No   3.8    918   \n",
       "3  Addhuri Udupi Bhojana           No         No   3.7     88   \n",
       "4          Grand Village           No         No   3.8    166   \n",
       "\n",
       "   approx_cost(for two people) listed_in(type)  \n",
       "0                          800          Buffet  \n",
       "1                          800          Buffet  \n",
       "2                          800          Buffet  \n",
       "3                          300          Buffet  \n",
       "4                          600          Buffet  "
      ]
     },
     "execution_count": 14,
     "metadata": {},
     "output_type": "execute_result"
    }
   ],
   "source": [
    "df['rate'] = pd.to_numeric(df['rate'], errors='coerce')\n",
    "df.head()"
   ]
  },
  {
   "cell_type": "markdown",
   "id": "56007b9e",
   "metadata": {},
   "source": [
    "# Type of resturants\n",
    "what type of resturant do the majority of customers order from?"
   ]
  },
  {
   "cell_type": "code",
   "execution_count": 15,
   "id": "55a4438e",
   "metadata": {},
   "outputs": [
    {
     "data": {
      "text/plain": [
       "listed_in(type)\n",
       "Dining    33\n",
       "Cafes     15\n",
       "other      6\n",
       "Buffet     4\n",
       "dtype: int64"
      ]
     },
     "execution_count": 15,
     "metadata": {},
     "output_type": "execute_result"
    }
   ],
   "source": [
    "df_type_res = df[df['online_order']==\"Yes\"].groupby('listed_in(type)').size()\n",
    "df_type_res.sort_values(ascending = False)\n"
   ]
  },
  {
   "cell_type": "code",
   "execution_count": 16,
   "id": "9aea9262",
   "metadata": {},
   "outputs": [
    {
     "data": {
      "text/plain": [
       "Text(0.5, 0, 'type of resturant')"
      ]
     },
     "execution_count": 16,
     "metadata": {},
     "output_type": "execute_result"
    },
    {
     "data": {
      "image/png": "[encoded data removed]",
      "text/plain": [
       "<Figure size 640x480 with 1 Axes>"
      ]
     },
     "metadata": {},
     "output_type": "display_data"
    }
   ],
   "source": [
    "sns.countplot(x=df['listed_in(type)'])\n",
    "plt.xlabel(\"type of resturant\")"
   ]
  },
  {
   "cell_type": "markdown",
   "id": "e7a2a562",
   "metadata": {},
   "source": [
    "# conclusion - majority go with dinning "
   ]
  },
  {
   "cell_type": "markdown",
   "id": "801ddaa8",
   "metadata": {},
   "source": [
    "# How many votes has each type of resturant received from customers?"
   ]
  },
  {
   "cell_type": "code",
   "execution_count": 17,
   "id": "03344e3b",
   "metadata": {},
   "outputs": [
    {
     "data": {
      "text/html": [
       "<div>\n",
       "<style scoped>\n",
       "    .dataframe tbody tr th:only-of-type {\n",
       "        vertical-align: middle;\n",
       "    }\n",
       "\n",
       "    .dataframe tbody tr th {\n",
       "        vertical-align: top;\n",
       "    }\n",
       "\n",
       "    .dataframe thead th {\n",
       "        text-align: right;\n",
       "    }\n",
       "</style>\n",
       "<table border=\"1\" class=\"dataframe\">\n",
       "  <thead>\n",
       "    <tr style=\"text-align: right;\">\n",
       "      <th></th>\n",
       "      <th>name</th>\n",
       "      <th>online_order</th>\n",
       "      <th>book_table</th>\n",
       "      <th>rate</th>\n",
       "      <th>votes</th>\n",
       "      <th>approx_cost(for two people)</th>\n",
       "      <th>listed_in(type)</th>\n",
       "    </tr>\n",
       "  </thead>\n",
       "  <tbody>\n",
       "    <tr>\n",
       "      <th>0</th>\n",
       "      <td>Jalsa</td>\n",
       "      <td>Yes</td>\n",
       "      <td>Yes</td>\n",
       "      <td>4.1</td>\n",
       "      <td>775</td>\n",
       "      <td>800</td>\n",
       "      <td>Buffet</td>\n",
       "    </tr>\n",
       "    <tr>\n",
       "      <th>1</th>\n",
       "      <td>Spice Elephant</td>\n",
       "      <td>Yes</td>\n",
       "      <td>No</td>\n",
       "      <td>4.1</td>\n",
       "      <td>787</td>\n",
       "      <td>800</td>\n",
       "      <td>Buffet</td>\n",
       "    </tr>\n",
       "    <tr>\n",
       "      <th>2</th>\n",
       "      <td>San Churro Cafe</td>\n",
       "      <td>Yes</td>\n",
       "      <td>No</td>\n",
       "      <td>3.8</td>\n",
       "      <td>918</td>\n",
       "      <td>800</td>\n",
       "      <td>Buffet</td>\n",
       "    </tr>\n",
       "    <tr>\n",
       "      <th>3</th>\n",
       "      <td>Addhuri Udupi Bhojana</td>\n",
       "      <td>No</td>\n",
       "      <td>No</td>\n",
       "      <td>3.7</td>\n",
       "      <td>88</td>\n",
       "      <td>300</td>\n",
       "      <td>Buffet</td>\n",
       "    </tr>\n",
       "    <tr>\n",
       "      <th>4</th>\n",
       "      <td>Grand Village</td>\n",
       "      <td>No</td>\n",
       "      <td>No</td>\n",
       "      <td>3.8</td>\n",
       "      <td>166</td>\n",
       "      <td>600</td>\n",
       "      <td>Buffet</td>\n",
       "    </tr>\n",
       "  </tbody>\n",
       "</table>\n",
       "</div>"
      ],
      "text/plain": [
       "                    name online_order book_table  rate  votes  \\\n",
       "0                  Jalsa          Yes        Yes   4.1    775   \n",
       "1         Spice Elephant          Yes         No   4.1    787   \n",
       "2        San Churro Cafe          Yes         No   3.8    918   \n",
       "3  Addhuri Udupi Bhojana           No         No   3.7     88   \n",
       "4          Grand Village           No         No   3.8    166   \n",
       "\n",
       "   approx_cost(for two people) listed_in(type)  \n",
       "0                          800          Buffet  \n",
       "1                          800          Buffet  \n",
       "2                          800          Buffet  \n",
       "3                          300          Buffet  \n",
       "4                          600          Buffet  "
      ]
     },
     "execution_count": 17,
     "metadata": {},
     "output_type": "execute_result"
    }
   ],
   "source": [
    "df.head()"
   ]
  },
  {
   "cell_type": "code",
   "execution_count": 18,
   "id": "6e85ccd6",
   "metadata": {},
   "outputs": [
    {
     "data": {
      "text/plain": [
       "listed_in(type)\n",
       "Buffet     3028\n",
       "Cafes      6434\n",
       "Dining    20363\n",
       "other      9367\n",
       "Name: votes, dtype: int64"
      ]
     },
     "execution_count": 18,
     "metadata": {},
     "output_type": "execute_result"
    }
   ],
   "source": [
    "df_votes = df.groupby('listed_in(type)')['votes'].sum()\n",
    "df_votes"
   ]
  },
  {
   "cell_type": "code",
   "execution_count": 19,
   "id": "68ea9a72",
   "metadata": {},
   "outputs": [
    {
     "data": {
      "image/png": "[encoded data removed]",
      "text/plain": [
       "<Figure size 800x600 with 1 Axes>"
      ]
     },
     "metadata": {},
     "output_type": "display_data"
    }
   ],
   "source": [
    "plt.figure(figsize=(8, 6))  # Set the figure size\n",
    "# df_votes.plot(kind='bar', color='skyblue', edgecolor='black')\n",
    "plt.plot(df_votes.index, df_votes.values, marker='o', linestyle='-', color='skyblue', label='Total Votes')\n",
    "# Add labels and title\n",
    "plt.title('Total Votes by Restaurant Type', fontsize=14)\n",
    "plt.xlabel('Restaurant Type', fontsize=12)\n",
    "plt.ylabel('Total Votes', fontsize=12)\n",
    "plt.xticks(rotation=45)\n",
    "plt.grid(axis='y', linestyle='--', alpha=0.7)\n"
   ]
  },
  {
   "cell_type": "markdown",
   "id": "6b3f93de",
   "metadata": {},
   "source": [
    "# Conclusion - Dinning restuarants has received maximum orders"
   ]
  },
  {
   "cell_type": "markdown",
   "id": "24009d81",
   "metadata": {},
   "source": [
    "# What are the ratings that the majority of restaurants have received?"
   ]
  },
  {
   "cell_type": "code",
   "execution_count": null,
   "id": "e79fab9a",
   "metadata": {},
   "outputs": [],
   "source": [
    "df.head()"
   ]
  },
  {
   "cell_type": "code",
   "execution_count": 20,
   "id": "a2a25e0a",
   "metadata": {},
   "outputs": [
    {
     "data": {
      "text/plain": [
       "3.8"
      ]
     },
     "execution_count": 20,
     "metadata": {},
     "output_type": "execute_result"
    }
   ],
   "source": [
    "df_res = df['rate'].mode()[0]\n",
    "df_res"
   ]
  },
  {
   "cell_type": "code",
   "execution_count": 21,
   "id": "557a8dea",
   "metadata": {},
   "outputs": [
    {
     "data": {
      "image/png": "[encoded data removed]",
      "text/plain": [
       "<Figure size 640x480 with 1 Axes>"
      ]
     },
     "metadata": {},
     "output_type": "display_data"
    }
   ],
   "source": [
    "plt.hist(df['rate'],bins=5)\n",
    "plt.title(\"ratings distribution\")\n",
    "plt.show()"
   ]
  },
  {
   "cell_type": "markdown",
   "id": "7bd7b083",
   "metadata": {},
   "source": [
    "# Conclusion - majority rating between 3.5 to 4"
   ]
  },
  {
   "cell_type": "markdown",
   "id": "23ae976e",
   "metadata": {},
   "source": [
    "# most couple orders online . what is their average spending on each order?"
   ]
  },
  {
   "cell_type": "code",
   "execution_count": null,
   "id": "e400d2aa",
   "metadata": {},
   "outputs": [],
   "source": [
    "df.head()"
   ]
  },
  {
   "cell_type": "code",
   "execution_count": 22,
   "id": "04f310e8",
   "metadata": {},
   "outputs": [
    {
     "data": {
      "text/plain": [
       "510.3448275862069"
      ]
     },
     "execution_count": 22,
     "metadata": {},
     "output_type": "execute_result"
    }
   ],
   "source": [
    "df_online_order = df[df['online_order']=='Yes']\n",
    "\n",
    "df_average_spending = df_online_order['approx_cost(for two people)'].mean()\n",
    "df_average_spending"
   ]
  },
  {
   "cell_type": "code",
   "execution_count": 23,
   "id": "3b52c8cf",
   "metadata": {},
   "outputs": [
    {
     "data": {
      "image/png": "[encoded data removed]",
      "text/plain": [
       "<Figure size 500x400 with 1 Axes>"
      ]
     },
     "metadata": {},
     "output_type": "display_data"
    }
   ],
   "source": [
    "plt.figure(figsize=(5, 4))\n",
    "# plt.hist(df_online_order['approx_cost(for two people)'], bins=5, color='yellow', edgecolor='black', alpha=0.5)\n",
    "sns.histplot(data=df_online_order, x='approx_cost(for two people)', bins=5, kde=True, color='skyblue')\n",
    "# Add labels, title, and grid\n",
    "plt.title('Distribution of Spending by Couples Who Order Online', fontsize=14)\n",
    "plt.xlabel('Spending (₹)', fontsize=10)\n",
    "plt.ylabel('Frequency', fontsize=10)\n",
    "plt.grid(axis='y', linestyle='--', alpha=0.3)\n",
    "\n",
    "# Show the plot\n",
    "# plt.tight_layout()\n",
    "plt.show()\n"
   ]
  },
  {
   "cell_type": "code",
   "execution_count": 24,
   "id": "d783b129",
   "metadata": {},
   "outputs": [
    {
     "data": {
      "text/plain": [
       "<Axes: xlabel='approx_cost(for two people)', ylabel='count'>"
      ]
     },
     "execution_count": 24,
     "metadata": {},
     "output_type": "execute_result"
    },
    {
     "data": {
      "image/png": "[encoded data removed]",
      "text/plain": [
       "<Figure size 640x480 with 1 Axes>"
      ]
     },
     "metadata": {},
     "output_type": "display_data"
    }
   ],
   "source": [
    "couple_data = df['approx_cost(for two people)']\n",
    "sns.countplot(x=couple_data)\n"
   ]
  },
  {
   "cell_type": "markdown",
   "id": "7c85ad06",
   "metadata": {},
   "source": [
    "# Conclusion - the majority of couples preffre restaurant with an approximate cost 300 rs."
   ]
  },
  {
   "cell_type": "markdown",
   "id": "b9ec6110",
   "metadata": {},
   "source": [
    "# Which mode (online or offline ) recived maximum ratings?"
   ]
  },
  {
   "cell_type": "code",
   "execution_count": 25,
   "id": "96985ac7",
   "metadata": {},
   "outputs": [
    {
     "data": {
      "text/plain": [
       "'Yes'"
      ]
     },
     "execution_count": 25,
     "metadata": {},
     "output_type": "execute_result"
    }
   ],
   "source": [
    "# df.head()\n",
    "df_max_rate = df.groupby('online_order')['rate'].mean().idxmax()\n",
    "df_max_rate"
   ]
  },
  {
   "cell_type": "code",
   "execution_count": 1,
   "id": "3c27a129",
   "metadata": {},
   "outputs": [
    {
     "name": "stderr",
     "output_type": "stream",
     "text": [
      "C:\\Python\\lib\\site-packages\\dash\\dash.py:579: UserWarning:\n",
      "\n",
      "JupyterDash is deprecated, use Dash instead.\n",
      "See https://dash.plotly.com/dash-in-jupyter for more details.\n",
      "\n"
     ]
    },
    {
     "data": {
      "text/html": [
       "\n",
       "        <iframe\n",
       "            width=\"100%\"\n",
       "            height=\"650\"\n",
       "            src=\"http://127.0.0.1:8050/\"\n",
       "            frameborder=\"0\"\n",
       "            allowfullscreen\n",
       "            \n",
       "        ></iframe>\n",
       "        "
      ],
      "text/plain": [
       "<IPython.lib.display.IFrame at 0x20719479f30>"
      ]
     },
     "metadata": {},
     "output_type": "display_data"
    },
    {
     "name": "stdout",
     "output_type": "stream",
     "text": [
      "Dash app running on http://127.0.0.1:8050/\n"
     ]
    }
   ],
   "source": [
    "import pandas as pd\n",
    "from jupyter_dash import JupyterDash\n",
    "import dash\n",
    "from dash import dcc, html\n",
    "import plotly.express as px\n",
    "import numpy as np\n",
    "\n",
    "# Load the CSV data\n",
    "df = pd.read_csv('Zomato data .csv')\n",
    "\n",
    "# Group the data by restaurant type and sum the votes\n",
    "votes_by_type = df.groupby('listed_in(type)')['votes'].sum().reset_index()\n",
    "\n",
    "# Filter data to include only restaurants that offer online orders\n",
    "online_orders_df = df[df['online_order'] == 'Yes']\n",
    "\n",
    "# Calculate the average spending for online orders by restaurant type\n",
    "average_spending = online_orders_df.groupby('listed_in(type)')['approx_cost(for two people)'].mean().reset_index()\n",
    "\n",
    "\n",
    "# Create the app\n",
    "app = JupyterDash(__name__)\n",
    "\n",
    "# Layout of the app\n",
    "app.layout = html.Div([\n",
    "    html.H1(\"Restaurant Data\"),\n",
    "    \n",
    "    # Dropdown for selecting restaurant type\n",
    "    dcc.Dropdown(\n",
    "        id='type-dropdown',\n",
    "        options=[\n",
    "            {'label': type, 'value': type} for type in df['listed_in(type)'].unique()\n",
    "        ],\n",
    "        value='Buffet',  # Default value\n",
    "        multi=False\n",
    "    ),\n",
    "    \n",
    "    # Graph to show restaurant ratings\n",
    "    dcc.Graph(\n",
    "        id='rating-graph'\n",
    "    ),\n",
    "    \n",
    "    # Pie chart to show majority online order type\n",
    "    dcc.Graph(\n",
    "        id='online-order-pie'\n",
    "    ),\n",
    "    \n",
    "    # Bar chart to show total votes for each restaurant type\n",
    "    dcc.Graph(\n",
    "        id='votes-by-type'\n",
    "    ),\n",
    "    \n",
    "    # Bar chart to show average spending on online orders by restaurant type\n",
    "    dcc.Graph(\n",
    "        id='avg-spending-online-orders'\n",
    "    )\n",
    "])\n",
    "\n",
    "# Callback to update the graph based on selected restaurant type\n",
    "@app.callback(\n",
    "    dash.dependencies.Output('rating-graph', 'figure'),\n",
    "    [dash.dependencies.Input('type-dropdown', 'value')]\n",
    ")\n",
    "def update_graph(selected_type):\n",
    "    filtered_df = df[df['listed_in(type)'] == selected_type]\n",
    "    \n",
    "    # Create a bar plot showing restaurant ratings\n",
    "    fig = px.bar(\n",
    "        filtered_df,\n",
    "        x='name',\n",
    "        y='rate',\n",
    "        color='name',\n",
    "        labels={'name': 'Restaurant Name', 'rate': 'Rating'},\n",
    "        title=f'Restaurant Ratings for {selected_type} Type'\n",
    "    )\n",
    "    \n",
    "    return fig\n",
    "\n",
    "# Callback to update the pie chart showing majority online order type\n",
    "@app.callback(\n",
    "    dash.dependencies.Output('online-order-pie', 'figure'),\n",
    "    [dash.dependencies.Input('type-dropdown', 'value')]\n",
    ")\n",
    "def update_pie_chart(selected_type):\n",
    "    filtered_df = df[df['listed_in(type)'] == selected_type]\n",
    "    \n",
    "    # Count the online orders (Yes vs No)\n",
    "    order_counts = filtered_df['online_order'].value_counts()\n",
    "    \n",
    "    # Create a pie chart\n",
    "    fig = px.pie(\n",
    "        values=order_counts,\n",
    "        names=order_counts.index,\n",
    "        title=f'Majority Online Order Type for {selected_type} Restaurants'\n",
    "    )\n",
    "    \n",
    "    return fig\n",
    "\n",
    "# Callback to update the bar chart showing total votes for each restaurant type\n",
    "@app.callback(\n",
    "    dash.dependencies.Output('votes-by-type', 'figure'),\n",
    "    [dash.dependencies.Input('type-dropdown', 'value')]\n",
    ")\n",
    "def update_votes_by_type(selected_type):\n",
    "    # Create a bar plot showing total votes for each restaurant type\n",
    "    fig = px.bar(\n",
    "        votes_by_type,\n",
    "        x='listed_in(type)',\n",
    "        y='votes',\n",
    "        labels={'listed_in(type)': 'Restaurant Type', 'votes': 'Total Votes'},\n",
    "        title='Total Votes by Restaurant Type'\n",
    "    )\n",
    "    \n",
    "    return fig\n",
    "\n",
    "# Callback to update the bar chart showing average spending for online orders by restaurant type\n",
    "@app.callback(\n",
    "    dash.dependencies.Output('avg-spending-online-orders', 'figure'),\n",
    "    [dash.dependencies.Input('type-dropdown', 'value')]\n",
    ")\n",
    "def update_avg_spending_scatter(selected_type):\n",
    "    # Filter the data for the selected type of restaurant and calculate the average spending\n",
    "    filtered_spending = average_spending[average_spending['listed_in(type)'] == selected_type]\n",
    "    \n",
    "    # Create a scatter plot showing average spending on online orders\n",
    "    fig = px.scatter(\n",
    "        filtered_spending,\n",
    "        y='listed_in(type)',\n",
    "        x='approx_cost(for two people)',\n",
    "        labels={'listed_in(type)': 'Restaurant Type', 'approx_cost(for two people)': 'Average Spending (for two)'},\n",
    "        title=f'Average Spending for Online Orders in {selected_type} Restaurants',\n",
    "        color='listed_in(type)',  # Color points based on restaurant type\n",
    "        size='approx_cost(for two people)',  # Size of the dots based on spending\n",
    "        hover_name='listed_in(type)',  # Tooltip will show restaurant type\n",
    "    )\n",
    "    \n",
    "    return fig\n",
    "\n",
    "\n",
    "\n",
    "# Run the app in external mode\n",
    "app.run_server(mode='external')"
   ]
  },
  {
   "cell_type": "code",
   "execution_count": null,
   "id": "3b86a546",
   "metadata": {},
   "outputs": [],
   "source": []
  }
 ],
 "metadata": {
  "kernelspec": {
   "display_name": "Python 3 (ipykernel)",
   "language": "python",
   "name": "python3"
  },
  "language_info": {
   "codemirror_mode": {
    "name": "ipython",
    "version": 3
   },
   "file_extension": ".py",
   "mimetype": "text/x-python",
   "name": "python",
   "nbconvert_exporter": "python",
   "pygments_lexer": "ipython3",
   "version": "3.10.2"
  }
 },
 "nbformat": 4,
 "nbformat_minor": 5
}
